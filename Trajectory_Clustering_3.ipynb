{
  "nbformat": 4,
  "nbformat_minor": 0,
  "metadata": {
    "colab": {
      "name": "Trajectory_Clustering.ipynb",
      "provenance": [],
      "collapsed_sections": [],
      "toc_visible": true,
      "mount_file_id": "1xvoo2nm8UzMBTXVpLUKZNNnHXZ12K1_D",
      "authorship_tag": "ABX9TyMw6rKvnwqLXkxWxhcgo2UE",
      "include_colab_link": true
    },
    "kernelspec": {
      "name": "python3",
      "display_name": "Python 3"
    },
    "accelerator": "GPU"
  },
  "cells": [
    {
      "cell_type": "markdown",
      "metadata": {
        "id": "view-in-github",
        "colab_type": "text"
      },
      "source": [
        "<a href=\"https://colab.research.google.com/github/Taejin1221/Algorithm/blob/master/Trajectory_Clustering_3.ipynb\" target=\"_parent\"><img src=\"https://colab.research.google.com/assets/colab-badge.svg\" alt=\"Open In Colab\"/></a>"
      ]
    },
    {
      "cell_type": "markdown",
      "metadata": {
        "id": "cKU6FnEmY7fH"
      },
      "source": [
        "# Import modules"
      ]
    },
    {
      "cell_type": "code",
      "metadata": {
        "id": "CtN6Kze-_XI0"
      },
      "source": [
        "import os, cv2, glob\n",
        "import numpy as np\n",
        "import pandas as pd\n",
        "\n",
        "'''\n",
        "If you want to know this file,\n",
        "refer to https://github.com/smupilab/Trajectory-AE/blob/master/utils/convertImage.py\n",
        "'''\n",
        "from drive.MyDrive.University.PiLab.Experiment.Codes import convertImage as utils"
      ],
      "execution_count": 1,
      "outputs": []
    },
    {
      "cell_type": "code",
      "metadata": {
        "colab": {
          "base_uri": "https://localhost:8080/",
          "height": 35
        },
        "id": "OYNyeOFxuRZc",
        "outputId": "88f6aad7-0173-4e35-d06e-b871562c9841"
      },
      "source": [
        "os.getcwd()"
      ],
      "execution_count": 2,
      "outputs": [
        {
          "output_type": "execute_result",
          "data": {
            "application/vnd.google.colaboratory.intrinsic+json": {
              "type": "string"
            },
            "text/plain": [
              "'/content'"
            ]
          },
          "metadata": {
            "tags": []
          },
          "execution_count": 2
        }
      ]
    },
    {
      "cell_type": "markdown",
      "metadata": {
        "id": "o50o01S-ltzx"
      },
      "source": [
        "# Set Constants"
      ]
    },
    {
      "cell_type": "code",
      "metadata": {
        "id": "Rmyk0hcfBIl8"
      },
      "source": [
        "# Constants\n",
        "WIDTH, HEIGHT = 128, 128\n",
        "\n",
        "EXPERIMENT_DATA = { 'name' : 'Trajectory_Clusetring', 'number' : '3', 'date' : '02-25-2021' }\n",
        "\n",
        "ROOT_DIR = os.path.join('/content', 'drive','MyDrive','University','PiLab','Experiment' )\n",
        "DATA_DIR = os.path.join( ROOT_DIR, 'Data', 'Trajectory_virtual_data')\n",
        "RESULT_DIR = os.path.join( ROOT_DIR, 'Results')"
      ],
      "execution_count": 3,
      "outputs": []
    },
    {
      "cell_type": "markdown",
      "metadata": {
        "id": "tN2e3qmxZHb9"
      },
      "source": [
        "# Load and Preprocessing Data"
      ]
    },
    {
      "cell_type": "code",
      "metadata": {
        "id": "tVx3TUFuZpw-"
      },
      "source": [
        "os.chdir( DATA_DIR )\n",
        "\n",
        "files = glob.glob( '*csv' )\n",
        "\n",
        "generator = utils.Map2ImageGenerator( WIDTH, HEIGHT, 0 )\n",
        "\n",
        "images = [ ]\n",
        "for file in files:\n",
        "    csv_file = pd.read_csv( file, names = [ 'lat', 'long', 'num' ], header = None )\n",
        "\n",
        "    images.append( generator.ConvertImage( csv_file ) )"
      ],
      "execution_count": 4,
      "outputs": []
    },
    {
      "cell_type": "code",
      "metadata": {
        "colab": {
          "base_uri": "https://localhost:8080/",
          "height": 145
        },
        "id": "3nZQrimBuknh",
        "outputId": "4f9d9bff-a182-4de3-e743-4e6e07208ee9"
      },
      "source": [
        "from google.colab.patches import cv2_imshow\n",
        "\n",
        "cv2_imshow( images[0] )"
      ],
      "execution_count": 5,
      "outputs": [
        {
          "output_type": "display_data",
          "data": {
            "image/png": "[encoded data removed]",
            "text/plain": [
              "<PIL.Image.Image image mode=L size=128x128 at 0x7F98E2688350>"
            ]
          },
          "metadata": {
            "tags": []
          }
        }
      ]
    },
    {
      "cell_type": "code",
      "metadata": {
        "id": "W4jqhOghcnAW"
      },
      "source": [
        "images = np.array( images ).astype( 'float32' ) / 255.\n",
        "images = np.reshape( images, ( -1, HEIGHT, WIDTH, 1 ) )"
      ],
      "execution_count": 6,
      "outputs": []
    },
    {
      "cell_type": "code",
      "metadata": {
        "id": "OCQ8uoSBcp8y"
      },
      "source": [
        "train_size = int( len( images ) * 0.8 )\n",
        "X_train, X_test = images[ : train_size], images[train_size : ]"
      ],
      "execution_count": 7,
      "outputs": []
    },
    {
      "cell_type": "markdown",
      "metadata": {
        "id": "cCQYEkCQBTAU"
      },
      "source": [
        "# Construct AE Model"
      ]
    },
    {
      "cell_type": "code",
      "metadata": {
        "id": "_MukGTR36NZ1"
      },
      "source": [
        "import tensorflow as tf\n",
        "from tensorflow import keras\n",
        "from tensorflow.keras import layers"
      ],
      "execution_count": 8,
      "outputs": []
    },
    {
      "cell_type": "code",
      "metadata": {
        "id": "zP7waEK-Bdp-"
      },
      "source": [
        "af, pd = 'relu', 'same' # activation function adn padding value\n",
        "\n",
        "encode_input = layers.Input( ( WIDTH, HEIGHT, 1 ) )\n",
        "x = layers.Conv2D( 16, ( 9, 9 ), activation = af, padding = pd )( encode_input )\n",
        "x = layers.MaxPooling2D( ( 2, 2 ), padding = pd )( x )\n",
        "\n",
        "x = layers.Conv2D( 16, ( 7, 7 ), activation = af, padding = pd )( x )\n",
        "x = layers.MaxPooling2D( ( 2, 2 ), padding = pd )( x )\n",
        "\n",
        "x = layers.Conv2D( 8, ( 5, 5 ), activation = af, padding = pd )( x )\n",
        "x = layers.MaxPooling2D( ( 2, 2 ), padding = pd )( x )\n",
        "\n",
        "x = layers.Conv2D( 8, ( 3, 3 ), activation = af, padding = pd )( x )\n",
        "x = layers.MaxPooling2D( ( 2, 2 ), padding = pd )( x )\n",
        "\n",
        "feature_map_shape = x.shape\n",
        "flatten_size = feature_map_shape[1] * feature_map_shape[2] * feature_map_shape[3]\n",
        "\n",
        "x = layers.Flatten()( x )\n",
        "encode_output = layers.Dense( flatten_size , activation = af )( x )"
      ],
      "execution_count": 9,
      "outputs": []
    },
    {
      "cell_type": "code",
      "metadata": {
        "colab": {
          "base_uri": "https://localhost:8080/"
        },
        "id": "1ANsf7CcYO2o",
        "outputId": "c8514141-c94d-4eed-ef91-907b821b7f47"
      },
      "source": [
        "encoder = keras.Model( encode_input, encode_output, name = 'Encoder' )\n",
        "encoder.summary()"
      ],
      "execution_count": 10,
      "outputs": [
        {
          "output_type": "stream",
          "text": [
            "Model: \"Encoder\"\n",
            "_________________________________________________________________\n",
            "Layer (type)                 Output Shape              Param #   \n",
            "=================================================================\n",
            "input_1 (InputLayer)         [(None, 128, 128, 1)]     0         \n",
            "_________________________________________________________________\n",
            "conv2d (Conv2D)              (None, 128, 128, 16)      1312      \n",
            "_________________________________________________________________\n",
            "max_pooling2d (MaxPooling2D) (None, 64, 64, 16)        0         \n",
            "_________________________________________________________________\n",
            "conv2d_1 (Conv2D)            (None, 64, 64, 16)        12560     \n",
            "_________________________________________________________________\n",
            "max_pooling2d_1 (MaxPooling2 (None, 32, 32, 16)        0         \n",
            "_________________________________________________________________\n",
            "conv2d_2 (Conv2D)            (None, 32, 32, 8)         3208      \n",
            "_________________________________________________________________\n",
            "max_pooling2d_2 (MaxPooling2 (None, 16, 16, 8)         0         \n",
            "_________________________________________________________________\n",
            "conv2d_3 (Conv2D)            (None, 16, 16, 8)         584       \n",
            "_________________________________________________________________\n",
            "max_pooling2d_3 (MaxPooling2 (None, 8, 8, 8)           0         \n",
            "_________________________________________________________________\n",
            "flatten (Flatten)            (None, 512)               0         \n",
            "_________________________________________________________________\n",
            "dense (Dense)                (None, 512)               262656    \n",
            "=================================================================\n",
            "Total params: 280,320\n",
            "Trainable params: 280,320\n",
            "Non-trainable params: 0\n",
            "_________________________________________________________________\n"
          ],
          "name": "stdout"
        }
      ]
    },
    {
      "cell_type": "code",
      "metadata": {
        "id": "G8QIjjHdGJr7"
      },
      "source": [
        "decode_input = layers.Input( ( flatten_size ) )\n",
        "\n",
        "x = layers.Dense( flatten_size, activation = af )( decode_input )\n",
        "x = layers.Reshape( feature_map_shape[1:] )( x )\n",
        "\n",
        "x = layers.Conv2DTranspose( 8, ( 3, 3 ), activation = af, padding = pd )( x )\n",
        "x = layers.UpSampling2D( ( 2, 2 ) )( x )\n",
        "\n",
        "x = layers.Conv2DTranspose( 8, ( 5, 5 ), activation = af, padding = pd )( x )\n",
        "x = layers.UpSampling2D( ( 2, 2 ) )( x )\n",
        "\n",
        "x = layers.Conv2DTranspose( 16, ( 7, 7 ), activation = af, padding = pd )( x )\n",
        "x = layers.UpSampling2D( ( 2, 2 ) )( x )\n",
        "\n",
        "x = layers.Conv2DTranspose( 16, ( 9, 9 ), activation = af, padding = pd )( x )\n",
        "x = layers.UpSampling2D( ( 2, 2 ) )( x )\n",
        "\n",
        "decode_output = layers.Conv2DTranspose( 1, ( 9, 9 ), activation = af, padding = pd )( x )"
      ],
      "execution_count": 11,
      "outputs": []
    },
    {
      "cell_type": "code",
      "metadata": {
        "colab": {
          "base_uri": "https://localhost:8080/"
        },
        "id": "FUqkCF1lYRKq",
        "outputId": "64aadd6d-609b-4d8d-fea6-2fa700db124a"
      },
      "source": [
        "decoder = keras.Model( decode_input, decode_output, name = 'Decoder' )\n",
        "decoder.summary()"
      ],
      "execution_count": 12,
      "outputs": [
        {
          "output_type": "stream",
          "text": [
            "Model: \"Decoder\"\n",
            "_________________________________________________________________\n",
            "Layer (type)                 Output Shape              Param #   \n",
            "=================================================================\n",
            "input_2 (InputLayer)         [(None, 512)]             0         \n",
            "_________________________________________________________________\n",
            "dense_1 (Dense)              (None, 512)               262656    \n",
            "_________________________________________________________________\n",
            "reshape (Reshape)            (None, 8, 8, 8)           0         \n",
            "_________________________________________________________________\n",
            "conv2d_transpose (Conv2DTran (None, 8, 8, 8)           584       \n",
            "_________________________________________________________________\n",
            "up_sampling2d (UpSampling2D) (None, 16, 16, 8)         0         \n",
            "_________________________________________________________________\n",
            "conv2d_transpose_1 (Conv2DTr (None, 16, 16, 8)         1608      \n",
            "_________________________________________________________________\n",
            "up_sampling2d_1 (UpSampling2 (None, 32, 32, 8)         0         \n",
            "_________________________________________________________________\n",
            "conv2d_transpose_2 (Conv2DTr (None, 32, 32, 16)        6288      \n",
            "_________________________________________________________________\n",
            "up_sampling2d_2 (UpSampling2 (None, 64, 64, 16)        0         \n",
            "_________________________________________________________________\n",
            "conv2d_transpose_3 (Conv2DTr (None, 64, 64, 16)        20752     \n",
            "_________________________________________________________________\n",
            "up_sampling2d_3 (UpSampling2 (None, 128, 128, 16)      0         \n",
            "_________________________________________________________________\n",
            "conv2d_transpose_4 (Conv2DTr (None, 128, 128, 1)       1297      \n",
            "=================================================================\n",
            "Total params: 293,185\n",
            "Trainable params: 293,185\n",
            "Non-trainable params: 0\n",
            "_________________________________________________________________\n"
          ],
          "name": "stdout"
        }
      ]
    },
    {
      "cell_type": "code",
      "metadata": {
        "colab": {
          "base_uri": "https://localhost:8080/"
        },
        "id": "2kqJNpvAIB8S",
        "outputId": "f50c1b65-b3d3-4220-fa81-b1d3b04e4864"
      },
      "source": [
        "auto_encoder = keras.Model( encode_input, decoder( encoder( encode_input ) ), name = 'Auto_Encoder' )\n",
        "auto_encoder.summary()"
      ],
      "execution_count": 13,
      "outputs": [
        {
          "output_type": "stream",
          "text": [
            "Model: \"Auto_Encoder\"\n",
            "_________________________________________________________________\n",
            "Layer (type)                 Output Shape              Param #   \n",
            "=================================================================\n",
            "input_1 (InputLayer)         [(None, 128, 128, 1)]     0         \n",
            "_________________________________________________________________\n",
            "Encoder (Functional)         (None, 512)               280320    \n",
            "_________________________________________________________________\n",
            "Decoder (Functional)         (None, 128, 128, 1)       293185    \n",
            "=================================================================\n",
            "Total params: 573,505\n",
            "Trainable params: 573,505\n",
            "Non-trainable params: 0\n",
            "_________________________________________________________________\n"
          ],
          "name": "stdout"
        }
      ]
    },
    {
      "cell_type": "markdown",
      "metadata": {
        "id": "evGKTc6PZDAV"
      },
      "source": [
        "# Traing Model"
      ]
    },
    {
      "cell_type": "code",
      "metadata": {
        "id": "u8fJD0ikLYYK"
      },
      "source": [
        "LAMBDA1, LAMBDA2 = 0.15, 0.85\n",
        "\n",
        "def SSIM_Loss( y_true, y_pred ):\n",
        "    ssim = tf.image.ssim( y_true, y_pred, max_val = 1.0, filter_size = 11,\n",
        "                          filter_sigma = 1.5, k1 = 0.01, k2 = 0.03)\n",
        "    \n",
        "    return 1 - tf.reduce_mean( ssim )\n",
        "\n",
        "def Hybrid_Loss( y_true, y_pred ):\n",
        "    f1 = keras.losses.MAE( y_true, y_pred )\n",
        "    f2 = SSIM_Loss( y_true, y_pred )\n",
        "\n",
        "    return LAMBDA1 * f1 + LAMBDA2 * f2\n",
        "\n",
        "# auto_encoder.compile( 'adam', loss = Hybrid_Loss )\n",
        "auto_encoder.compile( 'adam', loss = 'mse' )"
      ],
      "execution_count": 14,
      "outputs": []
    },
    {
      "cell_type": "code",
      "metadata": {
        "id": "gsy7Y_vIWGE3"
      },
      "source": [
        "EPOCH = 300\n",
        "BATCH = 10"
      ],
      "execution_count": 15,
      "outputs": []
    },
    {
      "cell_type": "code",
      "metadata": {
        "colab": {
          "base_uri": "https://localhost:8080/"
        },
        "id": "1JtFUWBXQApB",
        "outputId": "1be37bf6-05cf-439c-eaff-3eacfcc6cdb1"
      },
      "source": [
        "history = auto_encoder.fit( X_train, X_train, epochs = EPOCH, batch_size = BATCH )"
      ],
      "execution_count": 16,
      "outputs": [
        {
          "output_type": "stream",
          "text": [
            "Epoch 1/300\n",
            "6/6 [==============================] - 8s 37ms/step - loss: 0.0110\n",
            "Epoch 2/300\n",
            "6/6 [==============================] - 0s 9ms/step - loss: 0.0112\n",
            "Epoch 3/300\n",
            "6/6 [==============================] - 0s 9ms/step - loss: 0.0107\n",
            "Epoch 4/300\n",
            "6/6 [==============================] - 0s 9ms/step - loss: 0.0107\n",
            "Epoch 5/300\n",
            "6/6 [==============================] - 0s 9ms/step - loss: 0.0112\n",
            "Epoch 6/300\n",
            "6/6 [==============================] - 0s 9ms/step - loss: 0.0109\n",
            "Epoch 7/300\n",
            "6/6 [==============================] - 0s 9ms/step - loss: 0.0109\n",
            "Epoch 8/300\n",
            "6/6 [==============================] - 0s 9ms/step - loss: 0.0109\n",
            "Epoch 9/300\n",
            "6/6 [==============================] - 0s 9ms/step - loss: 0.0108\n",
            "Epoch 10/300\n",
            "6/6 [==============================] - 0s 9ms/step - loss: 0.0109\n",
            "Epoch 11/300\n",
            "6/6 [==============================] - 0s 9ms/step - loss: 0.0105\n",
            "Epoch 12/300\n",
            "6/6 [==============================] - 0s 10ms/step - loss: 0.0105\n",
            "Epoch 13/300\n",
            "6/6 [==============================] - 0s 9ms/step - loss: 0.0102\n",
            "Epoch 14/300\n",
            "6/6 [==============================] - 0s 9ms/step - loss: 0.0104\n",
            "Epoch 15/300\n",
            "6/6 [==============================] - 0s 9ms/step - loss: 0.0106\n",
            "Epoch 16/300\n",
            "6/6 [==============================] - 0s 9ms/step - loss: 0.0105\n",
            "Epoch 17/300\n",
            "6/6 [==============================] - 0s 9ms/step - loss: 0.0102\n",
            "Epoch 18/300\n",
            "6/6 [==============================] - 0s 10ms/step - loss: 0.0104\n",
            "Epoch 19/300\n",
            "6/6 [==============================] - 0s 9ms/step - loss: 0.0105\n",
            "Epoch 20/300\n",
            "6/6 [==============================] - 0s 9ms/step - loss: 0.0099\n",
            "Epoch 21/300\n",
            "6/6 [==============================] - 0s 8ms/step - loss: 0.0101\n",
            "Epoch 22/300\n",
            "6/6 [==============================] - 0s 9ms/step - loss: 0.0101\n",
            "Epoch 23/300\n",
            "6/6 [==============================] - 0s 9ms/step - loss: 0.0096\n",
            "Epoch 24/300\n",
            "6/6 [==============================] - 0s 9ms/step - loss: 0.0099\n",
            "Epoch 25/300\n",
            "6/6 [==============================] - 0s 9ms/step - loss: 0.0095\n",
            "Epoch 26/300\n",
            "6/6 [==============================] - 0s 9ms/step - loss: 0.0100\n",
            "Epoch 27/300\n",
            "6/6 [==============================] - 0s 9ms/step - loss: 0.0093\n",
            "Epoch 28/300\n",
            "6/6 [==============================] - 0s 9ms/step - loss: 0.0094\n",
            "Epoch 29/300\n",
            "6/6 [==============================] - 0s 9ms/step - loss: 0.0090\n",
            "Epoch 30/300\n",
            "6/6 [==============================] - 0s 9ms/step - loss: 0.0094\n",
            "Epoch 31/300\n",
            "6/6 [==============================] - 0s 9ms/step - loss: 0.0095\n",
            "Epoch 32/300\n",
            "6/6 [==============================] - 0s 9ms/step - loss: 0.0092\n",
            "Epoch 33/300\n",
            "6/6 [==============================] - 0s 9ms/step - loss: 0.0090\n",
            "Epoch 34/300\n",
            "6/6 [==============================] - 0s 9ms/step - loss: 0.0091\n",
            "Epoch 35/300\n",
            "6/6 [==============================] - 0s 9ms/step - loss: 0.0089\n",
            "Epoch 36/300\n",
            "6/6 [==============================] - 0s 9ms/step - loss: 0.0089\n",
            "Epoch 37/300\n",
            "6/6 [==============================] - 0s 9ms/step - loss: 0.0086\n",
            "Epoch 38/300\n",
            "6/6 [==============================] - 0s 9ms/step - loss: 0.0089\n",
            "Epoch 39/300\n",
            "6/6 [==============================] - 0s 9ms/step - loss: 0.0088\n",
            "Epoch 40/300\n",
            "6/6 [==============================] - 0s 9ms/step - loss: 0.0085\n",
            "Epoch 41/300\n",
            "6/6 [==============================] - 0s 9ms/step - loss: 0.0085\n",
            "Epoch 42/300\n",
            "6/6 [==============================] - 0s 9ms/step - loss: 0.0084\n",
            "Epoch 43/300\n",
            "6/6 [==============================] - 0s 9ms/step - loss: 0.0083\n",
            "Epoch 44/300\n",
            "6/6 [==============================] - 0s 9ms/step - loss: 0.0083\n",
            "Epoch 45/300\n",
            "6/6 [==============================] - 0s 9ms/step - loss: 0.0085\n",
            "Epoch 46/300\n",
            "6/6 [==============================] - 0s 9ms/step - loss: 0.0084\n",
            "Epoch 47/300\n",
            "6/6 [==============================] - 0s 9ms/step - loss: 0.0080\n",
            "Epoch 48/300\n",
            "6/6 [==============================] - 0s 9ms/step - loss: 0.0080\n",
            "Epoch 49/300\n",
            "6/6 [==============================] - 0s 9ms/step - loss: 0.0081\n",
            "Epoch 50/300\n",
            "6/6 [==============================] - 0s 10ms/step - loss: 0.0079\n",
            "Epoch 51/300\n",
            "6/6 [==============================] - 0s 9ms/step - loss: 0.0077\n",
            "Epoch 52/300\n",
            "6/6 [==============================] - 0s 9ms/step - loss: 0.0081\n",
            "Epoch 53/300\n",
            "6/6 [==============================] - 0s 9ms/step - loss: 0.0078\n",
            "Epoch 54/300\n",
            "6/6 [==============================] - 0s 9ms/step - loss: 0.0073\n",
            "Epoch 55/300\n",
            "6/6 [==============================] - 0s 9ms/step - loss: 0.0077\n",
            "Epoch 56/300\n",
            "6/6 [==============================] - 0s 9ms/step - loss: 0.0077\n",
            "Epoch 57/300\n",
            "6/6 [==============================] - 0s 9ms/step - loss: 0.0075\n",
            "Epoch 58/300\n",
            "6/6 [==============================] - 0s 9ms/step - loss: 0.0072\n",
            "Epoch 59/300\n",
            "6/6 [==============================] - 0s 8ms/step - loss: 0.0077\n",
            "Epoch 60/300\n",
            "6/6 [==============================] - 0s 9ms/step - loss: 0.0072\n",
            "Epoch 61/300\n",
            "6/6 [==============================] - 0s 9ms/step - loss: 0.0073\n",
            "Epoch 62/300\n",
            "6/6 [==============================] - 0s 9ms/step - loss: 0.0068\n",
            "Epoch 63/300\n",
            "6/6 [==============================] - 0s 9ms/step - loss: 0.0070\n",
            "Epoch 64/300\n",
            "6/6 [==============================] - 0s 9ms/step - loss: 0.0066\n",
            "Epoch 65/300\n",
            "6/6 [==============================] - 0s 9ms/step - loss: 0.0066\n",
            "Epoch 66/300\n",
            "6/6 [==============================] - 0s 9ms/step - loss: 0.0068\n",
            "Epoch 67/300\n",
            "6/6 [==============================] - 0s 9ms/step - loss: 0.0065\n",
            "Epoch 68/300\n",
            "6/6 [==============================] - 0s 9ms/step - loss: 0.0065\n",
            "Epoch 69/300\n",
            "6/6 [==============================] - 0s 9ms/step - loss: 0.0064\n",
            "Epoch 70/300\n",
            "6/6 [==============================] - 0s 9ms/step - loss: 0.0065\n",
            "Epoch 71/300\n",
            "6/6 [==============================] - 0s 9ms/step - loss: 0.0064\n",
            "Epoch 72/300\n",
            "6/6 [==============================] - 0s 9ms/step - loss: 0.0065\n",
            "Epoch 73/300\n",
            "6/6 [==============================] - 0s 9ms/step - loss: 0.0063\n",
            "Epoch 74/300\n",
            "6/6 [==============================] - 0s 9ms/step - loss: 0.0064\n",
            "Epoch 75/300\n",
            "6/6 [==============================] - 0s 9ms/step - loss: 0.0063\n",
            "Epoch 76/300\n",
            "6/6 [==============================] - 0s 9ms/step - loss: 0.0062\n",
            "Epoch 77/300\n",
            "6/6 [==============================] - 0s 9ms/step - loss: 0.0061\n",
            "Epoch 78/300\n",
            "6/6 [==============================] - 0s 9ms/step - loss: 0.0063\n",
            "Epoch 79/300\n",
            "6/6 [==============================] - 0s 9ms/step - loss: 0.0060\n",
            "Epoch 80/300\n",
            "6/6 [==============================] - 0s 9ms/step - loss: 0.0059\n",
            "Epoch 81/300\n",
            "6/6 [==============================] - 0s 9ms/step - loss: 0.0059\n",
            "Epoch 82/300\n",
            "6/6 [==============================] - 0s 9ms/step - loss: 0.0059\n",
            "Epoch 83/300\n",
            "6/6 [==============================] - 0s 9ms/step - loss: 0.0061\n",
            "Epoch 84/300\n",
            "6/6 [==============================] - 0s 9ms/step - loss: 0.0060\n",
            "Epoch 85/300\n",
            "6/6 [==============================] - 0s 9ms/step - loss: 0.0059\n",
            "Epoch 86/300\n",
            "6/6 [==============================] - 0s 9ms/step - loss: 0.0059\n",
            "Epoch 87/300\n",
            "6/6 [==============================] - 0s 9ms/step - loss: 0.0058\n",
            "Epoch 88/300\n",
            "6/6 [==============================] - 0s 9ms/step - loss: 0.0057\n",
            "Epoch 89/300\n",
            "6/6 [==============================] - 0s 9ms/step - loss: 0.0058\n",
            "Epoch 90/300\n",
            "6/6 [==============================] - 0s 10ms/step - loss: 0.0061\n",
            "Epoch 91/300\n",
            "6/6 [==============================] - 0s 9ms/step - loss: 0.0059\n",
            "Epoch 92/300\n",
            "6/6 [==============================] - 0s 9ms/step - loss: 0.0057\n",
            "Epoch 93/300\n",
            "6/6 [==============================] - 0s 9ms/step - loss: 0.0055\n",
            "Epoch 94/300\n",
            "6/6 [==============================] - 0s 9ms/step - loss: 0.0054\n",
            "Epoch 95/300\n",
            "6/6 [==============================] - 0s 9ms/step - loss: 0.0052\n",
            "Epoch 96/300\n",
            "6/6 [==============================] - 0s 9ms/step - loss: 0.0055\n",
            "Epoch 97/300\n",
            "6/6 [==============================] - 0s 9ms/step - loss: 0.0053\n",
            "Epoch 98/300\n",
            "6/6 [==============================] - 0s 9ms/step - loss: 0.0052\n",
            "Epoch 99/300\n",
            "6/6 [==============================] - 0s 9ms/step - loss: 0.0052\n",
            "Epoch 100/300\n",
            "6/6 [==============================] - 0s 9ms/step - loss: 0.0056\n",
            "Epoch 101/300\n",
            "6/6 [==============================] - 0s 9ms/step - loss: 0.0052\n",
            "Epoch 102/300\n",
            "6/6 [==============================] - 0s 9ms/step - loss: 0.0053\n",
            "Epoch 103/300\n",
            "6/6 [==============================] - 0s 10ms/step - loss: 0.0052\n",
            "Epoch 104/300\n",
            "6/6 [==============================] - 0s 9ms/step - loss: 0.0055\n",
            "Epoch 105/300\n",
            "6/6 [==============================] - 0s 9ms/step - loss: 0.0054\n",
            "Epoch 106/300\n",
            "6/6 [==============================] - 0s 11ms/step - loss: 0.0055\n",
            "Epoch 107/300\n",
            "6/6 [==============================] - 0s 9ms/step - loss: 0.0056\n",
            "Epoch 108/300\n",
            "6/6 [==============================] - 0s 10ms/step - loss: 0.0056\n",
            "Epoch 109/300\n",
            "6/6 [==============================] - 0s 9ms/step - loss: 0.0055\n",
            "Epoch 110/300\n",
            "6/6 [==============================] - 0s 9ms/step - loss: 0.0054\n",
            "Epoch 111/300\n",
            "6/6 [==============================] - 0s 9ms/step - loss: 0.0052\n",
            "Epoch 112/300\n",
            "6/6 [==============================] - 0s 9ms/step - loss: 0.0049\n",
            "Epoch 113/300\n",
            "6/6 [==============================] - 0s 9ms/step - loss: 0.0050\n",
            "Epoch 114/300\n",
            "6/6 [==============================] - 0s 9ms/step - loss: 0.0050\n",
            "Epoch 115/300\n",
            "6/6 [==============================] - 0s 9ms/step - loss: 0.0050\n",
            "Epoch 116/300\n",
            "6/6 [==============================] - 0s 9ms/step - loss: 0.0049\n",
            "Epoch 117/300\n",
            "6/6 [==============================] - 0s 9ms/step - loss: 0.0054\n",
            "Epoch 118/300\n",
            "6/6 [==============================] - 0s 9ms/step - loss: 0.0051\n",
            "Epoch 119/300\n",
            "6/6 [==============================] - 0s 9ms/step - loss: 0.0049\n",
            "Epoch 120/300\n",
            "6/6 [==============================] - 0s 10ms/step - loss: 0.0050\n",
            "Epoch 121/300\n",
            "6/6 [==============================] - 0s 11ms/step - loss: 0.0049\n",
            "Epoch 122/300\n",
            "6/6 [==============================] - 0s 9ms/step - loss: 0.0048\n",
            "Epoch 123/300\n",
            "6/6 [==============================] - 0s 9ms/step - loss: 0.0045\n",
            "Epoch 124/300\n",
            "6/6 [==============================] - 0s 9ms/step - loss: 0.0046\n",
            "Epoch 125/300\n",
            "6/6 [==============================] - 0s 9ms/step - loss: 0.0047\n",
            "Epoch 126/300\n",
            "6/6 [==============================] - 0s 9ms/step - loss: 0.0048\n",
            "Epoch 127/300\n",
            "6/6 [==============================] - 0s 9ms/step - loss: 0.0046\n",
            "Epoch 128/300\n",
            "6/6 [==============================] - 0s 9ms/step - loss: 0.0046\n",
            "Epoch 129/300\n",
            "6/6 [==============================] - 0s 9ms/step - loss: 0.0047\n",
            "Epoch 130/300\n",
            "6/6 [==============================] - 0s 9ms/step - loss: 0.0046\n",
            "Epoch 131/300\n",
            "6/6 [==============================] - 0s 9ms/step - loss: 0.0048\n",
            "Epoch 132/300\n",
            "6/6 [==============================] - 0s 9ms/step - loss: 0.0048\n",
            "Epoch 133/300\n",
            "6/6 [==============================] - 0s 9ms/step - loss: 0.0046\n",
            "Epoch 134/300\n",
            "6/6 [==============================] - 0s 9ms/step - loss: 0.0051\n",
            "Epoch 135/300\n",
            "6/6 [==============================] - 0s 9ms/step - loss: 0.0045\n",
            "Epoch 136/300\n",
            "6/6 [==============================] - 0s 9ms/step - loss: 0.0046\n",
            "Epoch 137/300\n",
            "6/6 [==============================] - 0s 10ms/step - loss: 0.0043\n",
            "Epoch 138/300\n",
            "6/6 [==============================] - 0s 9ms/step - loss: 0.0043\n",
            "Epoch 139/300\n",
            "6/6 [==============================] - 0s 9ms/step - loss: 0.0043\n",
            "Epoch 140/300\n",
            "6/6 [==============================] - 0s 9ms/step - loss: 0.0043\n",
            "Epoch 141/300\n",
            "6/6 [==============================] - 0s 10ms/step - loss: 0.0041\n",
            "Epoch 142/300\n",
            "6/6 [==============================] - 0s 9ms/step - loss: 0.0041\n",
            "Epoch 143/300\n",
            "6/6 [==============================] - 0s 9ms/step - loss: 0.0040\n",
            "Epoch 144/300\n",
            "6/6 [==============================] - 0s 9ms/step - loss: 0.0043\n",
            "Epoch 145/300\n",
            "6/6 [==============================] - 0s 9ms/step - loss: 0.0042\n",
            "Epoch 146/300\n",
            "6/6 [==============================] - 0s 9ms/step - loss: 0.0042\n",
            "Epoch 147/300\n",
            "6/6 [==============================] - 0s 9ms/step - loss: 0.0039\n",
            "Epoch 148/300\n",
            "6/6 [==============================] - 0s 9ms/step - loss: 0.0037\n",
            "Epoch 149/300\n",
            "6/6 [==============================] - 0s 9ms/step - loss: 0.0038\n",
            "Epoch 150/300\n",
            "6/6 [==============================] - 0s 9ms/step - loss: 0.0042\n",
            "Epoch 151/300\n",
            "6/6 [==============================] - 0s 9ms/step - loss: 0.0039\n",
            "Epoch 152/300\n",
            "6/6 [==============================] - 0s 9ms/step - loss: 0.0043\n",
            "Epoch 153/300\n",
            "6/6 [==============================] - 0s 9ms/step - loss: 0.0040\n",
            "Epoch 154/300\n",
            "6/6 [==============================] - 0s 9ms/step - loss: 0.0041\n",
            "Epoch 155/300\n",
            "6/6 [==============================] - 0s 9ms/step - loss: 0.0040\n",
            "Epoch 156/300\n",
            "6/6 [==============================] - 0s 10ms/step - loss: 0.0039\n",
            "Epoch 157/300\n",
            "6/6 [==============================] - 0s 9ms/step - loss: 0.0042\n",
            "Epoch 158/300\n",
            "6/6 [==============================] - 0s 9ms/step - loss: 0.0038\n",
            "Epoch 159/300\n",
            "6/6 [==============================] - 0s 9ms/step - loss: 0.0040\n",
            "Epoch 160/300\n",
            "6/6 [==============================] - 0s 9ms/step - loss: 0.0040\n",
            "Epoch 161/300\n",
            "6/6 [==============================] - 0s 9ms/step - loss: 0.0038\n",
            "Epoch 162/300\n",
            "6/6 [==============================] - 0s 10ms/step - loss: 0.0039\n",
            "Epoch 163/300\n",
            "6/6 [==============================] - 0s 9ms/step - loss: 0.0041\n",
            "Epoch 164/300\n",
            "6/6 [==============================] - 0s 9ms/step - loss: 0.0038\n",
            "Epoch 165/300\n",
            "6/6 [==============================] - 0s 9ms/step - loss: 0.0041\n",
            "Epoch 166/300\n",
            "6/6 [==============================] - 0s 9ms/step - loss: 0.0040\n",
            "Epoch 167/300\n",
            "6/6 [==============================] - 0s 9ms/step - loss: 0.0036\n",
            "Epoch 168/300\n",
            "6/6 [==============================] - 0s 9ms/step - loss: 0.0039\n",
            "Epoch 169/300\n",
            "6/6 [==============================] - 0s 9ms/step - loss: 0.0043\n",
            "Epoch 170/300\n",
            "6/6 [==============================] - 0s 9ms/step - loss: 0.0041\n",
            "Epoch 171/300\n",
            "6/6 [==============================] - 0s 9ms/step - loss: 0.0040\n",
            "Epoch 172/300\n",
            "6/6 [==============================] - 0s 10ms/step - loss: 0.0039\n",
            "Epoch 173/300\n",
            "6/6 [==============================] - 0s 9ms/step - loss: 0.0041\n",
            "Epoch 174/300\n",
            "6/6 [==============================] - 0s 9ms/step - loss: 0.0037\n",
            "Epoch 175/300\n",
            "6/6 [==============================] - 0s 9ms/step - loss: 0.0038\n",
            "Epoch 176/300\n",
            "6/6 [==============================] - 0s 9ms/step - loss: 0.0038\n",
            "Epoch 177/300\n",
            "6/6 [==============================] - 0s 9ms/step - loss: 0.0039\n",
            "Epoch 178/300\n",
            "6/6 [==============================] - 0s 9ms/step - loss: 0.0040\n",
            "Epoch 179/300\n",
            "6/6 [==============================] - 0s 9ms/step - loss: 0.0037\n",
            "Epoch 180/300\n",
            "6/6 [==============================] - 0s 9ms/step - loss: 0.0035\n",
            "Epoch 181/300\n",
            "6/6 [==============================] - 0s 9ms/step - loss: 0.0036\n",
            "Epoch 182/300\n",
            "6/6 [==============================] - 0s 9ms/step - loss: 0.0035\n",
            "Epoch 183/300\n",
            "6/6 [==============================] - 0s 9ms/step - loss: 0.0034\n",
            "Epoch 184/300\n",
            "6/6 [==============================] - 0s 9ms/step - loss: 0.0037\n",
            "Epoch 185/300\n",
            "6/6 [==============================] - 0s 9ms/step - loss: 0.0037\n",
            "Epoch 186/300\n",
            "6/6 [==============================] - 0s 9ms/step - loss: 0.0035\n",
            "Epoch 187/300\n",
            "6/6 [==============================] - 0s 9ms/step - loss: 0.0034\n",
            "Epoch 188/300\n",
            "6/6 [==============================] - 0s 9ms/step - loss: 0.0036\n",
            "Epoch 189/300\n",
            "6/6 [==============================] - 0s 9ms/step - loss: 0.0034\n",
            "Epoch 190/300\n",
            "6/6 [==============================] - 0s 10ms/step - loss: 0.0035\n",
            "Epoch 191/300\n",
            "6/6 [==============================] - 0s 9ms/step - loss: 0.0033\n",
            "Epoch 192/300\n",
            "6/6 [==============================] - 0s 9ms/step - loss: 0.0032\n",
            "Epoch 193/300\n",
            "6/6 [==============================] - 0s 9ms/step - loss: 0.0033\n",
            "Epoch 194/300\n",
            "6/6 [==============================] - 0s 9ms/step - loss: 0.0032\n",
            "Epoch 195/300\n",
            "6/6 [==============================] - 0s 9ms/step - loss: 0.0033\n",
            "Epoch 196/300\n",
            "6/6 [==============================] - 0s 9ms/step - loss: 0.0034\n",
            "Epoch 197/300\n",
            "6/6 [==============================] - 0s 9ms/step - loss: 0.0035\n",
            "Epoch 198/300\n",
            "6/6 [==============================] - 0s 9ms/step - loss: 0.0036\n",
            "Epoch 199/300\n",
            "6/6 [==============================] - 0s 9ms/step - loss: 0.0037\n",
            "Epoch 200/300\n",
            "6/6 [==============================] - 0s 9ms/step - loss: 0.0041\n",
            "Epoch 201/300\n",
            "6/6 [==============================] - 0s 9ms/step - loss: 0.0039\n",
            "Epoch 202/300\n",
            "6/6 [==============================] - 0s 9ms/step - loss: 0.0038\n",
            "Epoch 203/300\n",
            "6/6 [==============================] - 0s 9ms/step - loss: 0.0037\n",
            "Epoch 204/300\n",
            "6/6 [==============================] - 0s 9ms/step - loss: 0.0037\n",
            "Epoch 205/300\n",
            "6/6 [==============================] - 0s 9ms/step - loss: 0.0037\n",
            "Epoch 206/300\n",
            "6/6 [==============================] - 0s 9ms/step - loss: 0.0037\n",
            "Epoch 207/300\n",
            "6/6 [==============================] - 0s 9ms/step - loss: 0.0033\n",
            "Epoch 208/300\n",
            "6/6 [==============================] - 0s 10ms/step - loss: 0.0033\n",
            "Epoch 209/300\n",
            "6/6 [==============================] - 0s 9ms/step - loss: 0.0037\n",
            "Epoch 210/300\n",
            "6/6 [==============================] - 0s 9ms/step - loss: 0.0035\n",
            "Epoch 211/300\n",
            "6/6 [==============================] - 0s 9ms/step - loss: 0.0036\n",
            "Epoch 212/300\n",
            "6/6 [==============================] - 0s 9ms/step - loss: 0.0035\n",
            "Epoch 213/300\n",
            "6/6 [==============================] - 0s 9ms/step - loss: 0.0035\n",
            "Epoch 214/300\n",
            "6/6 [==============================] - 0s 8ms/step - loss: 0.0036\n",
            "Epoch 215/300\n",
            "6/6 [==============================] - 0s 9ms/step - loss: 0.0034\n",
            "Epoch 216/300\n",
            "6/6 [==============================] - 0s 9ms/step - loss: 0.0032\n",
            "Epoch 217/300\n",
            "6/6 [==============================] - 0s 9ms/step - loss: 0.0030\n",
            "Epoch 218/300\n",
            "6/6 [==============================] - 0s 9ms/step - loss: 0.0029\n",
            "Epoch 219/300\n",
            "6/6 [==============================] - 0s 9ms/step - loss: 0.0030\n",
            "Epoch 220/300\n",
            "6/6 [==============================] - 0s 9ms/step - loss: 0.0028\n",
            "Epoch 221/300\n",
            "6/6 [==============================] - 0s 9ms/step - loss: 0.0027\n",
            "Epoch 222/300\n",
            "6/6 [==============================] - 0s 9ms/step - loss: 0.0028\n",
            "Epoch 223/300\n",
            "6/6 [==============================] - 0s 9ms/step - loss: 0.0029\n",
            "Epoch 224/300\n",
            "6/6 [==============================] - 0s 9ms/step - loss: 0.0030\n",
            "Epoch 225/300\n",
            "6/6 [==============================] - 0s 10ms/step - loss: 0.0031\n",
            "Epoch 226/300\n",
            "6/6 [==============================] - 0s 9ms/step - loss: 0.0031\n",
            "Epoch 227/300\n",
            "6/6 [==============================] - 0s 9ms/step - loss: 0.0032\n",
            "Epoch 228/300\n",
            "6/6 [==============================] - 0s 9ms/step - loss: 0.0030\n",
            "Epoch 229/300\n",
            "6/6 [==============================] - 0s 9ms/step - loss: 0.0031\n",
            "Epoch 230/300\n",
            "6/6 [==============================] - 0s 9ms/step - loss: 0.0030\n",
            "Epoch 231/300\n",
            "6/6 [==============================] - 0s 9ms/step - loss: 0.0032\n",
            "Epoch 232/300\n",
            "6/6 [==============================] - 0s 9ms/step - loss: 0.0030\n",
            "Epoch 233/300\n",
            "6/6 [==============================] - 0s 9ms/step - loss: 0.0030\n",
            "Epoch 234/300\n",
            "6/6 [==============================] - 0s 9ms/step - loss: 0.0030\n",
            "Epoch 235/300\n",
            "6/6 [==============================] - 0s 9ms/step - loss: 0.0028\n",
            "Epoch 236/300\n",
            "6/6 [==============================] - 0s 9ms/step - loss: 0.0029\n",
            "Epoch 237/300\n",
            "6/6 [==============================] - 0s 9ms/step - loss: 0.0029\n",
            "Epoch 238/300\n",
            "6/6 [==============================] - 0s 9ms/step - loss: 0.0026\n",
            "Epoch 239/300\n",
            "6/6 [==============================] - 0s 9ms/step - loss: 0.0028\n",
            "Epoch 240/300\n",
            "6/6 [==============================] - 0s 9ms/step - loss: 0.0029\n",
            "Epoch 241/300\n",
            "6/6 [==============================] - 0s 9ms/step - loss: 0.0027\n",
            "Epoch 242/300\n",
            "6/6 [==============================] - 0s 9ms/step - loss: 0.0031\n",
            "Epoch 243/300\n",
            "6/6 [==============================] - 0s 9ms/step - loss: 0.0030\n",
            "Epoch 244/300\n",
            "6/6 [==============================] - 0s 9ms/step - loss: 0.0027\n",
            "Epoch 245/300\n",
            "6/6 [==============================] - 0s 9ms/step - loss: 0.0030\n",
            "Epoch 246/300\n",
            "6/6 [==============================] - 0s 9ms/step - loss: 0.0029\n",
            "Epoch 247/300\n",
            "6/6 [==============================] - 0s 9ms/step - loss: 0.0026\n",
            "Epoch 248/300\n",
            "6/6 [==============================] - 0s 9ms/step - loss: 0.0029\n",
            "Epoch 249/300\n",
            "6/6 [==============================] - 0s 9ms/step - loss: 0.0028\n",
            "Epoch 250/300\n",
            "6/6 [==============================] - 0s 9ms/step - loss: 0.0029\n",
            "Epoch 251/300\n",
            "6/6 [==============================] - 0s 9ms/step - loss: 0.0035\n",
            "Epoch 252/300\n",
            "6/6 [==============================] - 0s 9ms/step - loss: 0.0033\n",
            "Epoch 253/300\n",
            "6/6 [==============================] - 0s 9ms/step - loss: 0.0033\n",
            "Epoch 254/300\n",
            "6/6 [==============================] - 0s 9ms/step - loss: 0.0033\n",
            "Epoch 255/300\n",
            "6/6 [==============================] - 0s 9ms/step - loss: 0.0032\n",
            "Epoch 256/300\n",
            "6/6 [==============================] - 0s 9ms/step - loss: 0.0033\n",
            "Epoch 257/300\n",
            "6/6 [==============================] - 0s 9ms/step - loss: 0.0034\n",
            "Epoch 258/300\n",
            "6/6 [==============================] - 0s 9ms/step - loss: 0.0029\n",
            "Epoch 259/300\n",
            "6/6 [==============================] - 0s 9ms/step - loss: 0.0032\n",
            "Epoch 260/300\n",
            "6/6 [==============================] - 0s 9ms/step - loss: 0.0032\n",
            "Epoch 261/300\n",
            "6/6 [==============================] - 0s 9ms/step - loss: 0.0029\n",
            "Epoch 262/300\n",
            "6/6 [==============================] - 0s 9ms/step - loss: 0.0032\n",
            "Epoch 263/300\n",
            "6/6 [==============================] - 0s 9ms/step - loss: 0.0030\n",
            "Epoch 264/300\n",
            "6/6 [==============================] - 0s 9ms/step - loss: 0.0030\n",
            "Epoch 265/300\n",
            "6/6 [==============================] - 0s 9ms/step - loss: 0.0027\n",
            "Epoch 266/300\n",
            "6/6 [==============================] - 0s 9ms/step - loss: 0.0026\n",
            "Epoch 267/300\n",
            "6/6 [==============================] - 0s 9ms/step - loss: 0.0025\n",
            "Epoch 268/300\n",
            "6/6 [==============================] - 0s 9ms/step - loss: 0.0027\n",
            "Epoch 269/300\n",
            "6/6 [==============================] - 0s 9ms/step - loss: 0.0029\n",
            "Epoch 270/300\n",
            "6/6 [==============================] - 0s 9ms/step - loss: 0.0028\n",
            "Epoch 271/300\n",
            "6/6 [==============================] - 0s 9ms/step - loss: 0.0029\n",
            "Epoch 272/300\n",
            "6/6 [==============================] - 0s 9ms/step - loss: 0.0027\n",
            "Epoch 273/300\n",
            "6/6 [==============================] - 0s 10ms/step - loss: 0.0026\n",
            "Epoch 274/300\n",
            "6/6 [==============================] - 0s 9ms/step - loss: 0.0024\n",
            "Epoch 275/300\n",
            "6/6 [==============================] - 0s 10ms/step - loss: 0.0025\n",
            "Epoch 276/300\n",
            "6/6 [==============================] - 0s 9ms/step - loss: 0.0023\n",
            "Epoch 277/300\n",
            "6/6 [==============================] - 0s 9ms/step - loss: 0.0025\n",
            "Epoch 278/300\n",
            "6/6 [==============================] - 0s 9ms/step - loss: 0.0025\n",
            "Epoch 279/300\n",
            "6/6 [==============================] - 0s 9ms/step - loss: 0.0028\n",
            "Epoch 280/300\n",
            "6/6 [==============================] - 0s 10ms/step - loss: 0.0028\n",
            "Epoch 281/300\n",
            "6/6 [==============================] - 0s 9ms/step - loss: 0.0031\n",
            "Epoch 282/300\n",
            "6/6 [==============================] - 0s 10ms/step - loss: 0.0031\n",
            "Epoch 283/300\n",
            "6/6 [==============================] - 0s 10ms/step - loss: 0.0029\n",
            "Epoch 284/300\n",
            "6/6 [==============================] - 0s 9ms/step - loss: 0.0029\n",
            "Epoch 285/300\n",
            "6/6 [==============================] - 0s 9ms/step - loss: 0.0025\n",
            "Epoch 286/300\n",
            "6/6 [==============================] - 0s 9ms/step - loss: 0.0026\n",
            "Epoch 287/300\n",
            "6/6 [==============================] - 0s 9ms/step - loss: 0.0026\n",
            "Epoch 288/300\n",
            "6/6 [==============================] - 0s 9ms/step - loss: 0.0024\n",
            "Epoch 289/300\n",
            "6/6 [==============================] - 0s 10ms/step - loss: 0.0024\n",
            "Epoch 290/300\n",
            "6/6 [==============================] - 0s 10ms/step - loss: 0.0024\n",
            "Epoch 291/300\n",
            "6/6 [==============================] - 0s 11ms/step - loss: 0.0024\n",
            "Epoch 292/300\n",
            "6/6 [==============================] - 0s 9ms/step - loss: 0.0024\n",
            "Epoch 293/300\n",
            "6/6 [==============================] - 0s 9ms/step - loss: 0.0025\n",
            "Epoch 294/300\n",
            "6/6 [==============================] - 0s 9ms/step - loss: 0.0024\n",
            "Epoch 295/300\n",
            "6/6 [==============================] - 0s 9ms/step - loss: 0.0024\n",
            "Epoch 296/300\n",
            "6/6 [==============================] - 0s 9ms/step - loss: 0.0023\n",
            "Epoch 297/300\n",
            "6/6 [==============================] - 0s 10ms/step - loss: 0.0023\n",
            "Epoch 298/300\n",
            "6/6 [==============================] - 0s 9ms/step - loss: 0.0024\n",
            "Epoch 299/300\n",
            "6/6 [==============================] - 0s 9ms/step - loss: 0.0022\n",
            "Epoch 300/300\n",
            "6/6 [==============================] - 0s 9ms/step - loss: 0.0022\n"
          ],
          "name": "stdout"
        }
      ]
    },
    {
      "cell_type": "markdown",
      "metadata": {
        "id": "RIZdFM_NZEkP"
      },
      "source": [
        "# Test Model"
      ]
    },
    {
      "cell_type": "markdown",
      "metadata": {
        "id": "Go_oXzhmqCkt"
      },
      "source": [
        "## Check Reconstruction"
      ]
    },
    {
      "cell_type": "code",
      "metadata": {
        "colab": {
          "base_uri": "https://localhost:8080/",
          "height": 411
        },
        "id": "TauusjKsSE4Q",
        "outputId": "772b6f93-9e4c-487a-a084-101db5b9049c"
      },
      "source": [
        "import matplotlib.pyplot as plt\n",
        "\n",
        "os.chdir( RESULT_DIR )\n",
        "\n",
        "decoded_img = auto_encoder( X_test )\n",
        "\n",
        "plt.gray()\n",
        "n = 5\n",
        "fig, ax = plt.subplots( 2, n, True, True, figsize = ( 16, 6 ) )\n",
        "for i in range( n ):\n",
        "    ax[0][i].imshow( X_test[i].reshape( HEIGHT, WIDTH ) )\n",
        "    ax[1][i].imshow( tf.reshape( decoded_img[i], ( HEIGHT, WIDTH ) ) )\n",
        "\n",
        "result_name = (EXPERIMENT_DATA['name'] + '_'\n",
        "    + EXPERIMENT_DATA['number'] + '_'\n",
        "    + 'Reconstruction' + '('\n",
        "    + EXPERIMENT_DATA['date'] + ').png')\n",
        "print( result_name )\n",
        "\n",
        "plt.savefig( result_name, dpi = 300 )\n",
        "plt.show()"
      ],
      "execution_count": 17,
      "outputs": [
        {
          "output_type": "stream",
          "text": [
            "Trajectory_Clusetring_3_Reconstruction(02-25-2021).png\n"
          ],
          "name": "stdout"
        },
        {
          "output_type": "display_data",
          "data": {
            "text/plain": [
              "<Figure size 432x288 with 0 Axes>"
            ]
          },
          "metadata": {
            "tags": []
          }
        },
        {
          "output_type": "display_data",
          "data": {
            "image/png": "[encoded data removed]",
            "text/plain": [
              "<Figure size 1152x432 with 10 Axes>"
            ]
          },
          "metadata": {
            "tags": [],
            "needs_background": "light"
          }
        }
      ]
    },
    {
      "cell_type": "markdown",
      "metadata": {
        "id": "UDoRRnfaqHqb"
      },
      "source": [
        "## Clustering (HCA)"
      ]
    },
    {
      "cell_type": "code",
      "metadata": {
        "colab": {
          "base_uri": "https://localhost:8080/",
          "height": 588
        },
        "id": "TEeZFKe9qBMa",
        "outputId": "6f07a6e2-2e5f-402a-de3f-d82cb3040fd7"
      },
      "source": [
        "from scipy.cluster.hierarchy import dendrogram, linkage\n",
        "low_dimension_data = encoder( X_test )\n",
        "result = linkage( low_dimension_data )\n",
        "\n",
        "fig = plt.figure( figsize = ( 25, 10 ) )\n",
        "dn = dendrogram( result )\n",
        "\n",
        "result_name = (EXPERIMENT_DATA['name'] + '_'\n",
        "    + EXPERIMENT_DATA['number'] + '_'\n",
        "    + 'Clustering' + '('\n",
        "    + EXPERIMENT_DATA['date'] + ').png')\n",
        "print( result_name )\n",
        "\n",
        "plt.savefig( result_name, dpi = 300 )\n",
        "plt.show()"
      ],
      "execution_count": 18,
      "outputs": [
        {
          "output_type": "stream",
          "text": [
            "Trajectory_Clusetring_3_Clustering(02-25-2021).png\n"
          ],
          "name": "stdout"
        },
        {
          "output_type": "display_data",
          "data": {
            "image/png": "[encoded data removed]",
            "text/plain": [
              "<Figure size 1800x720 with 1 Axes>"
            ]
          },
          "metadata": {
            "tags": [],
            "needs_background": "light"
          }
        }
      ]
    },
    {
      "cell_type": "code",
      "metadata": {
        "colab": {
          "base_uri": "https://localhost:8080/",
          "height": 1000
        },
        "id": "WvIvzyB5w7mk",
        "outputId": "317e6ef3-415f-4b6e-fb88-8fb2740edfc3"
      },
      "source": [
        "plt.gray()\n",
        "n = len( X_test )\n",
        "fig, ax = plt.subplots( n, 1, True, True, figsize = ( 24, 50 ) )\n",
        "for i in range( n ):\n",
        "    ax[i].imshow( X_test[i].reshape( HEIGHT, WIDTH ) )\n",
        "    # ax[1][i].imshow( tf.reshape( decoded_img[i], ( HEIGHT, WIDTH ) ) )"
      ],
      "execution_count": 19,
      "outputs": [
        {
          "output_type": "display_data",
          "data": {
            "text/plain": [
              "<Figure size 432x288 with 0 Axes>"
            ]
          },
          "metadata": {
            "tags": []
          }
        },
        {
          "output_type": "display_data",
          "data": {
            "image/png": "[encoded data removed]",
            "text/plain": [
              "<Figure size 1728x3600 with 14 Axes>"
            ]
          },
          "metadata": {
            "tags": [],
            "needs_background": "light"
          }
        }
      ]
    }
  ]
}